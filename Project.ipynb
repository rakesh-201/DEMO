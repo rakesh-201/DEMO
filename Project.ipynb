{
  "nbformat": 4,
  "nbformat_minor": 0,
  "metadata": {
    "colab": {
      "name": "Untitled0.ipynb",
      "provenance": [],
      "collapsed_sections": [],
      "authorship_tag": "ABX9TyNN6A9T8BMBHS4ZrgB0JsVO",
      "include_colab_link": true
    },
    "kernelspec": {
      "name": "python3",
      "display_name": "Python 3"
    }
  },
  "cells": [
    {
      "cell_type": "markdown",
      "metadata": {
        "id": "view-in-github",
        "colab_type": "text"
      },
      "source": [
        "<a href=\"https://colab.research.google.com/github/rakesh-201/DEMO/blob/master/Project.ipynb\" target=\"_parent\"><img src=\"https://colab.research.google.com/assets/colab-badge.svg\" alt=\"Open In Colab\"/></a>"
      ]
    },
    {
      "cell_type": "code",
      "metadata": {
        "id": "bWSKHQEwDzvH",
        "colab_type": "code",
        "colab": {}
      },
      "source": [
        "import cv2, os"
      ],
      "execution_count": 2,
      "outputs": []
    },
    {
      "cell_type": "code",
      "metadata": {
        "id": "QT1-xS6DERpF",
        "colab_type": "code",
        "colab": {
          "base_uri": "https://localhost:8080/",
          "height": 68
        },
        "outputId": "76ace2fc-438a-4df3-eee5-3e9263666141"
      },
      "source": [
        "data_path = '/content/sample_data/dataset'\n",
        "categories = os.listdir(data_path)\n",
        "labels = [i for i in range(len(categories))]\n",
        "label_dict = dict(zip(categories, labels))\n",
        "\n",
        "print(label_dict)\n",
        "print(categories)\n",
        "print(labels)"
      ],
      "execution_count": 4,
      "outputs": [
        {
          "output_type": "stream",
          "text": [
            "{'with_mask': 0, 'without_mask': 1}\n",
            "['with_mask', 'without_mask']\n",
            "[0, 1]\n"
          ],
          "name": "stdout"
        }
      ]
    },
    {
      "cell_type": "code",
      "metadata": {
        "id": "CNyW6izkHiTY",
        "colab_type": "code",
        "colab": {}
      },
      "source": [
        "img_size = 100\n",
        "data = []\n",
        "target = []\n",
        "\n",
        "for category in categories:\n",
        "  folder_path = os.path.join(data_path, category)\n",
        "  img_names = os.listdir(folder_path)\n",
        "\n",
        "  for img_name in img_names:\n",
        "    img_path = os.path.join(folder_path, img_name)\n",
        "    img = cv2.imread(img_path)\n",
        "\n",
        "    try:\n",
        "      gray = cv2.cvtColor(img, cv2.COLOR_BGR2GRAY)\n",
        "      resized = cv2.resize(gray, (img_size, img_size))\n",
        "      data.append(resized)\n",
        "      target.append(label_dict[category])\n",
        "    except Exception as e:\n",
        "      print('Exception:', e)\n",
        "      "
      ],
      "execution_count": 5,
      "outputs": []
    },
    {
      "cell_type": "code",
      "metadata": {
        "id": "K8njxsEWMkx4",
        "colab_type": "code",
        "colab": {}
      },
      "source": [
        "import numpy as np\n",
        "\n",
        "data = np.array(data)/255.0\n",
        "data = np.reshape(data, (data.shape[0], img_size, img_size, 1))\n",
        "target = np.array(target)\n",
        "\n",
        "from keras.utils import np_utils\n",
        "new_target = np_utils.to_categorical(target)\n"
      ],
      "execution_count": 18,
      "outputs": []
    },
    {
      "cell_type": "code",
      "metadata": {
        "id": "12wKGk0ZMnZU",
        "colab_type": "code",
        "colab": {}
      },
      "source": [
        ""
      ],
      "execution_count": null,
      "outputs": []
    }
  ]
}
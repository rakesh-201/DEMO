{
  "nbformat": 4,
  "nbformat_minor": 0,
  "metadata": {
    "colab": {
      "name": "Untitled0.ipynb",
      "provenance": [],
      "collapsed_sections": [],
      "authorship_tag": "ABX9TyNAyIp3yz3mAqNUh66r7Dbn",
      "include_colab_link": true
    },
    "kernelspec": {
      "name": "python3",
      "display_name": "Python 3"
    }
  },
  "cells": [
    {
      "cell_type": "markdown",
      "metadata": {
        "id": "view-in-github",
        "colab_type": "text"
      },
      "source": [
        "<a href=\"https://colab.research.google.com/github/rakesh-201/DEMO/blob/master/Untitled.ipynb\" target=\"_parent\"><img src=\"https://colab.research.google.com/assets/colab-badge.svg\" alt=\"Open In Colab\"/></a>"
      ]
    },
    {
      "cell_type": "code",
      "metadata": {
        "id": "bWSKHQEwDzvH",
        "colab_type": "code",
        "colab": {}
      },
      "source": [
        "import cv2, os"
      ],
      "execution_count": 12,
      "outputs": []
    },
    {
      "cell_type": "code",
      "metadata": {
        "id": "QT1-xS6DERpF",
        "colab_type": "code",
        "colab": {
          "base_uri": "https://localhost:8080/",
          "height": 68
        },
        "outputId": "3932a27d-5e88-4bbc-a2f1-e8d0f39b36f0"
      },
      "source": [
        "data_path = '/content/sample_data/dataset'\n",
        "categories = os.listdir(data_path)\n",
        "labels = [i for i in range(len(categories))]\n",
        "label_dict = dict(zip(categories, labels))\n",
        "\n",
        "print(label_dict)\n",
        "print(categories)\n",
        "print(labels)"
      ],
      "execution_count": 13,
      "outputs": [
        {
          "output_type": "stream",
          "text": [
            "{'with_mask': 0, 'without_mask': 1, '.ipynb_checkpoints': 2}\n",
            "['with_mask', 'without_mask', '.ipynb_checkpoints']\n",
            "[0, 1, 2]\n"
          ],
          "name": "stdout"
        }
      ]
    },
    {
      "cell_type": "code",
      "metadata": {
        "id": "CNyW6izkHiTY",
        "colab_type": "code",
        "colab": {
          "base_uri": "https://localhost:8080/",
          "height": 71
        },
        "outputId": "2fedabd1-31a8-4798-abb8-af844df49099"
      },
      "source": [
        "img_size = 100\n",
        "data = []\n",
        "target = []\n",
        "\n",
        "for category in categories:\n",
        "  folder_path = os.path.join(data_path, category)\n",
        "  img_names = os.listdir(folder_path)\n",
        "\n",
        "  for img_name in img_names:\n",
        "    img_path = os.path.join(folder_path, img_name)\n",
        "    img = cv2.imread(img_path)\n",
        "\n",
        "    try:\n",
        "      gray = cv2.cvtColor(img, cv2.COLOR_BGR2GRAY)\n",
        "      resized = cv2.resize(gray, (img_size, img_size))\n",
        "      data.append(resized)\n",
        "      target.append(label_dict[category])\n",
        "    except Exception as e:\n",
        "      print('Exception:', e)\n",
        "      "
      ],
      "execution_count": 14,
      "outputs": [
        {
          "output_type": "stream",
          "text": [
            "Exception: OpenCV(4.1.2) /io/opencv/modules/imgproc/src/color.cpp:182: error: (-215:Assertion failed) !_src.empty() in function 'cvtColor'\n",
            "\n"
          ],
          "name": "stdout"
        }
      ]
    },
    {
      "cell_type": "code",
      "metadata": {
        "id": "K8njxsEWMkx4",
        "colab_type": "code",
        "colab": {}
      },
      "source": [
        "import numpy as np\n",
        "\n",
        "data = np.array(data)/255.0\n",
        "data = np.reshape(data, (data.shape[0], img_size, img_size, 1))\n",
        "target = np.array(target)\n",
        "\n",
        "from keras.utils import np_utils\n",
        "new_target = np_utils.to_categorical(target)\n"
      ],
      "execution_count": 15,
      "outputs": []
    },
    {
      "cell_type": "code",
      "metadata": {
        "id": "12wKGk0ZMnZU",
        "colab_type": "code",
        "colab": {}
      },
      "source": [
        "from keras.models import Sequential\n",
        "from keras.layers import Dense, Activation, Flatten, Dropout, Conv2D, MaxPooling2D\n",
        "from keras.callbacks import ModelCheckpoint, ReduceLROnPlateau"
      ],
      "execution_count": 17,
      "outputs": []
    },
    {
      "cell_type": "code",
      "metadata": {
        "id": "Xx0dlAb939-0",
        "colab_type": "code",
        "colab": {}
      },
      "source": [
        "model = Sequential()\n",
        "\n",
        "model.add(Conv2D(200, (3,3), input_shape=data.shape[1:]))\n",
        "model.add(Activation('relu'))\n",
        "model.add(MaxPooling2D(pool_size=(2,2)))\n",
        "\n",
        "model.add(Conv2D(100, (3,3), input_shape=data.shape[1:]))\n",
        "model.add(Activation('relu'))\n",
        "model.add(MaxPooling2D(pool_size=(2,2)))\n",
        "\n",
        "model.add(Flatten())\n",
        "\n",
        "model.add(Dropout(0.5))\n",
        "\n",
        "model.add(Dense(50, activation='relu'))\n",
        "\n",
        "model.add(Dense(2, activation='softmax'))\n",
        "\n",
        "model.compile(loss='binary_crossentropy', optimizer='adam', metrics=['accuracy'])"
      ],
      "execution_count": 19,
      "outputs": []
    },
    {
      "cell_type": "code",
      "metadata": {
        "id": "uLo1lcAF6NvA",
        "colab_type": "code",
        "colab": {}
      },
      "source": [
        "from sklearn.model_selection import train_test_split\n",
        "\n",
        "train_data, test_data, train_target, test_target = train_test_split(data, new_target, test_size=0.1)"
      ],
      "execution_count": 23,
      "outputs": []
    },
    {
      "cell_type": "code",
      "metadata": {
        "id": "hL5KxEKg8Jqr",
        "colab_type": "code",
        "colab": {
          "base_uri": "https://localhost:8080/",
          "height": 734
        },
        "outputId": "7cb3127c-debe-40ee-b01a-8cee5cba84ea"
      },
      "source": [
        "checkpoint = ModelCheckpoint('/content/sample_data/dataset/model-{epoch:03d}.model', monitor='val_loss', verbose=0, save_best_only=True, mode='auto')\n",
        "history = model.fit(train_data, train_target, epochs=20, callbacks=[checkpoint], validation_split=0.2)"
      ],
      "execution_count": 24,
      "outputs": [
        {
          "output_type": "stream",
          "text": [
            "Train on 990 samples, validate on 248 samples\n",
            "Epoch 1/20\n",
            "990/990 [==============================] - 77s 78ms/step - loss: 0.6948 - accuracy: 0.5646 - val_loss: 0.6949 - val_accuracy: 0.4960\n",
            "Epoch 2/20\n",
            "990/990 [==============================] - 77s 78ms/step - loss: 0.6011 - accuracy: 0.6606 - val_loss: 0.5786 - val_accuracy: 0.6492\n",
            "Epoch 3/20\n",
            "990/990 [==============================] - 77s 77ms/step - loss: 0.4351 - accuracy: 0.8030 - val_loss: 0.4172 - val_accuracy: 0.8145\n",
            "Epoch 4/20\n",
            "990/990 [==============================] - 77s 77ms/step - loss: 0.3289 - accuracy: 0.8545 - val_loss: 0.2703 - val_accuracy: 0.9073\n",
            "Epoch 5/20\n",
            "990/990 [==============================] - 76s 77ms/step - loss: 0.2215 - accuracy: 0.9182 - val_loss: 0.2533 - val_accuracy: 0.9113\n",
            "Epoch 6/20\n",
            "990/990 [==============================] - 76s 77ms/step - loss: 0.1784 - accuracy: 0.9343 - val_loss: 0.1952 - val_accuracy: 0.9113\n",
            "Epoch 7/20\n",
            "990/990 [==============================] - 76s 77ms/step - loss: 0.1228 - accuracy: 0.9606 - val_loss: 0.1534 - val_accuracy: 0.9476\n",
            "Epoch 8/20\n",
            "990/990 [==============================] - 80s 81ms/step - loss: 0.0966 - accuracy: 0.9667 - val_loss: 0.1724 - val_accuracy: 0.9435\n",
            "Epoch 9/20\n",
            "990/990 [==============================] - 76s 77ms/step - loss: 0.0734 - accuracy: 0.9737 - val_loss: 0.1410 - val_accuracy: 0.9516\n",
            "Epoch 10/20\n",
            "990/990 [==============================] - 76s 77ms/step - loss: 0.0867 - accuracy: 0.9727 - val_loss: 0.1915 - val_accuracy: 0.9194\n",
            "Epoch 11/20\n",
            "990/990 [==============================] - 76s 77ms/step - loss: 0.0604 - accuracy: 0.9808 - val_loss: 0.1795 - val_accuracy: 0.9435\n",
            "Epoch 12/20\n",
            "990/990 [==============================] - 77s 77ms/step - loss: 0.0379 - accuracy: 0.9889 - val_loss: 0.2646 - val_accuracy: 0.9315\n",
            "Epoch 13/20\n",
            "990/990 [==============================] - 76s 77ms/step - loss: 0.0412 - accuracy: 0.9838 - val_loss: 0.2655 - val_accuracy: 0.9315\n",
            "Epoch 14/20\n",
            "990/990 [==============================] - 77s 77ms/step - loss: 0.0466 - accuracy: 0.9838 - val_loss: 0.1840 - val_accuracy: 0.9435\n",
            "Epoch 15/20\n",
            "990/990 [==============================] - 76s 77ms/step - loss: 0.0229 - accuracy: 0.9939 - val_loss: 0.1687 - val_accuracy: 0.9435\n",
            "Epoch 16/20\n",
            "990/990 [==============================] - 80s 81ms/step - loss: 0.0164 - accuracy: 0.9949 - val_loss: 0.2085 - val_accuracy: 0.9476\n",
            "Epoch 17/20\n",
            "990/990 [==============================] - 76s 77ms/step - loss: 0.0294 - accuracy: 0.9929 - val_loss: 0.1707 - val_accuracy: 0.9435\n",
            "Epoch 18/20\n",
            "990/990 [==============================] - 76s 77ms/step - loss: 0.0243 - accuracy: 0.9939 - val_loss: 0.1797 - val_accuracy: 0.9395\n",
            "Epoch 19/20\n",
            "990/990 [==============================] - 76s 77ms/step - loss: 0.0136 - accuracy: 0.9960 - val_loss: 0.2110 - val_accuracy: 0.9476\n",
            "Epoch 20/20\n",
            "990/990 [==============================] - 76s 77ms/step - loss: 0.0107 - accuracy: 0.9980 - val_loss: 0.1824 - val_accuracy: 0.9395\n"
          ],
          "name": "stdout"
        }
      ]
    },
    {
      "cell_type": "code",
      "metadata": {
        "id": "6IBsVwC3-uyw",
        "colab_type": "code",
        "colab": {
          "base_uri": "https://localhost:8080/",
          "height": 279
        },
        "outputId": "5b2b7484-62db-4bee-cb0d-e7f384b97c55"
      },
      "source": [
        "from matplotlib import pyplot as plt\n",
        "\n",
        "plt.plot(history.history['loss'], 'r', label='training loss')\n",
        "plt.plot(history.history['val_loss'], label='validation loss')\n",
        "plt.xlabel('#epochs')\n",
        "plt.ylabel('loss')\n",
        "plt.legend()\n",
        "plt.show()"
      ],
      "execution_count": 25,
      "outputs": [
        {
          "output_type": "display_data",
          "data": {
            "image/png": "[encoded data removed]",
            "text/plain": [
              "<Figure size 432x288 with 1 Axes>"
            ]
          },
          "metadata": {
            "tags": [],
            "needs_background": "light"
          }
        }
      ]
    },
    {
      "cell_type": "code",
      "metadata": {
        "id": "Jk-LV6EWHowY",
        "colab_type": "code",
        "colab": {
          "base_uri": "https://localhost:8080/",
          "height": 279
        },
        "outputId": "b4b4e0d1-7d9a-4c19-e22f-30379fedfb65"
      },
      "source": [
        "plt.plot(history.history['accuracy'], 'r', label='training accuracy')\n",
        "plt.plot(history.history['val_accuracy'], label='validation accuracy')\n",
        "plt.xlabel('#epochs')\n",
        "plt.ylabel('accuracy')\n",
        "plt.legend()\n",
        "plt.show()"
      ],
      "execution_count": 27,
      "outputs": [
        {
          "output_type": "display_data",
          "data": {
            "image/png": "[encoded data removed]",
            "text/plain": [
              "<Figure size 432x288 with 1 Axes>"
            ]
          },
          "metadata": {
            "tags": [],
            "needs_background": "light"
          }
        }
      ]
    },
    {
      "cell_type": "code",
      "metadata": {
        "id": "UVgADG7EIoHm",
        "colab_type": "code",
        "colab": {
          "base_uri": "https://localhost:8080/",
          "height": 51
        },
        "outputId": "8934b912-e6ce-4b57-f141-9af6f5947ba9"
      },
      "source": [
        "print(model.evaluate(test_data, test_target))"
      ],
      "execution_count": 28,
      "outputs": [
        {
          "output_type": "stream",
          "text": [
            "138/138 [==============================] - 3s 21ms/step\n",
            "[0.06536313419000826, 0.9710144996643066]\n"
          ],
          "name": "stdout"
        }
      ]
    },
    {
      "cell_type": "code",
      "metadata": {
        "id": "sGF08RhOMEhu",
        "colab_type": "code",
        "colab": {}
      },
      "source": [
        "from keras.models import load_model"
      ],
      "execution_count": 29,
      "outputs": []
    },
    {
      "cell_type": "code",
      "metadata": {
        "id": "Hu-gkzR4t8k-",
        "colab_type": "code",
        "colab": {}
      },
      "source": [
        "face_clsfr = cv2.CascadeClassifier('/content/sample_data/dataset/haarcascade_frontalface_default.xml')\n",
        "source = cv2.VideoCapture(0)\n",
        "\n",
        "label_dict = {0: 'MASK', 1: 'NO MASK'}\n",
        "color_dict = {0: (0, 255, 0), 1: (0, 0, 255)}"
      ],
      "execution_count": 30,
      "outputs": []
    },
    {
      "cell_type": "code",
      "metadata": {
        "id": "2OD2Zrqw0VOn",
        "colab_type": "code",
        "colab": {}
      },
      "source": [
        "while(True):\n",
        "  ret, img = source.read()\n",
        "  gray = cv2.cvtColor(img, cv2.COLOR_BGR2GRAY)\n",
        "  faces = face_clsfr.detectMultiScale(gray, 1.3, 5)\n",
        "\n",
        "  for x,y,w,h in faces:\n",
        "    face_img = gray[y:y+w, x:x+w]\n",
        "    resized = cv2.resized(face_img, (100, 100))\n",
        "    normalized = resized/255.0\n",
        "    reshaped = np.reshape(normalized, (1, 100, 100, 1))\n",
        "    result = model.predict(reshaped)\n",
        "\n",
        "    label = np.argmax(result, axis=1)[0]\n",
        "\n",
        "    cv2.rectangle(img, (x, y), (x+w, y+h), color_dict[label], 2)\n",
        "    cv2.rectangle(img, (x, y-40), (x+w, y), color_dict[label], -1)\n",
        "    cv2.putText(img, label_dict[label], (x, y-10), cv2.FONT_HERSHEY_SIMPLEX, 0.8)\n",
        "\n",
        "  cv2.imshow('LIVE', img)\n",
        "  key = cv2.waitKey(1)\n",
        "\n",
        "  if (key == 27):\n",
        "    break\n",
        "cv2.destroyAllWindows()\n",
        "source.release()\n"
      ],
      "execution_count": 32,
      "outputs": []
    },
    {
      "cell_type": "code",
      "metadata": {
        "id": "F1wBtT07e-UF",
        "colab_type": "code",
        "colab": {}
      },
      "source": [
        ""
      ],
      "execution_count": null,
      "outputs": []
    }
  ]
}